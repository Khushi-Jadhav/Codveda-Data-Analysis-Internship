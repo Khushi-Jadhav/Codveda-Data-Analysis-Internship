{
  "nbformat": 4,
  "nbformat_minor": 0,
  "metadata": {
    "colab": {
      "provenance": []
    },
    "kernelspec": {
      "name": "python3",
      "display_name": "Python 3"
    },
    "language_info": {
      "name": "python"
    }
  },
  "cells": [
    {
      "cell_type": "code",
      "execution_count": 1,
      "metadata": {
        "id": "-EuH0llBaix4"
      },
      "outputs": [],
      "source": [
        "# Step 1: Import Libraries\n",
        "import pandas as pd\n",
        "from sklearn.preprocessing import LabelEncoder, StandardScaler\n",
        "from sklearn.linear_model import LogisticRegression\n",
        "from sklearn.ensemble import RandomForestClassifier\n",
        "from sklearn.metrics import accuracy_score, classification_report, confusion_matrix\n",
        "import matplotlib.pyplot as plt\n",
        "import seaborn as sns\n"
      ]
    },
    {
      "cell_type": "code",
      "source": [
        "# Step 2: Load Datasets\n",
        "train_df = pd.read_csv(\"/content/drive/MyDrive/Data Set For Task/Churn Prdiction Data/churn-bigml-80.csv\")\n",
        "test_df = pd.read_csv(\"/content/drive/MyDrive/Data Set For Task/Churn Prdiction Data/churn-bigml-20.csv\")\n"
      ],
      "metadata": {
        "id": "kRyGS0HrajtI"
      },
      "execution_count": 2,
      "outputs": []
    },
    {
      "cell_type": "code",
      "source": [
        "# Step 3: Basic Exploration\n",
        "print(train_df.head())\n",
        "print(train_df.info())\n",
        "print(train_df['Churn'].value_counts())  # Target column\n"
      ],
      "metadata": {
        "colab": {
          "base_uri": "https://localhost:8080/"
        },
        "id": "eCwOa5_AajwF",
        "outputId": "b0c25274-9414-4e4d-926c-1760de99aa46"
      },
      "execution_count": 3,
      "outputs": [
        {
          "output_type": "stream",
          "name": "stdout",
          "text": [
            "  State  Account length  Area code International plan Voice mail plan  \\\n",
            "0    KS             128        415                 No             Yes   \n",
            "1    OH             107        415                 No             Yes   \n",
            "2    NJ             137        415                 No              No   \n",
            "3    OH              84        408                Yes              No   \n",
            "4    OK              75        415                Yes              No   \n",
            "\n",
            "   Number vmail messages  Total day minutes  Total day calls  \\\n",
            "0                     25              265.1              110   \n",
            "1                     26              161.6              123   \n",
            "2                      0              243.4              114   \n",
            "3                      0              299.4               71   \n",
            "4                      0              166.7              113   \n",
            "\n",
            "   Total day charge  Total eve minutes  Total eve calls  Total eve charge  \\\n",
            "0             45.07              197.4               99             16.78   \n",
            "1             27.47              195.5              103             16.62   \n",
            "2             41.38              121.2              110             10.30   \n",
            "3             50.90               61.9               88              5.26   \n",
            "4             28.34              148.3              122             12.61   \n",
            "\n",
            "   Total night minutes  Total night calls  Total night charge  \\\n",
            "0                244.7                 91               11.01   \n",
            "1                254.4                103               11.45   \n",
            "2                162.6                104                7.32   \n",
            "3                196.9                 89                8.86   \n",
            "4                186.9                121                8.41   \n",
            "\n",
            "   Total intl minutes  Total intl calls  Total intl charge  \\\n",
            "0                10.0                 3               2.70   \n",
            "1                13.7                 3               3.70   \n",
            "2                12.2                 5               3.29   \n",
            "3                 6.6                 7               1.78   \n",
            "4                10.1                 3               2.73   \n",
            "\n",
            "   Customer service calls  Churn  \n",
            "0                       1  False  \n",
            "1                       1  False  \n",
            "2                       0  False  \n",
            "3                       2  False  \n",
            "4                       3  False  \n",
            "<class 'pandas.core.frame.DataFrame'>\n",
            "RangeIndex: 2666 entries, 0 to 2665\n",
            "Data columns (total 20 columns):\n",
            " #   Column                  Non-Null Count  Dtype  \n",
            "---  ------                  --------------  -----  \n",
            " 0   State                   2666 non-null   object \n",
            " 1   Account length          2666 non-null   int64  \n",
            " 2   Area code               2666 non-null   int64  \n",
            " 3   International plan      2666 non-null   object \n",
            " 4   Voice mail plan         2666 non-null   object \n",
            " 5   Number vmail messages   2666 non-null   int64  \n",
            " 6   Total day minutes       2666 non-null   float64\n",
            " 7   Total day calls         2666 non-null   int64  \n",
            " 8   Total day charge        2666 non-null   float64\n",
            " 9   Total eve minutes       2666 non-null   float64\n",
            " 10  Total eve calls         2666 non-null   int64  \n",
            " 11  Total eve charge        2666 non-null   float64\n",
            " 12  Total night minutes     2666 non-null   float64\n",
            " 13  Total night calls       2666 non-null   int64  \n",
            " 14  Total night charge      2666 non-null   float64\n",
            " 15  Total intl minutes      2666 non-null   float64\n",
            " 16  Total intl calls        2666 non-null   int64  \n",
            " 17  Total intl charge       2666 non-null   float64\n",
            " 18  Customer service calls  2666 non-null   int64  \n",
            " 19  Churn                   2666 non-null   bool   \n",
            "dtypes: bool(1), float64(8), int64(8), object(3)\n",
            "memory usage: 398.5+ KB\n",
            "None\n",
            "Churn\n",
            "False    2278\n",
            "True      388\n",
            "Name: count, dtype: int64\n"
          ]
        }
      ]
    },
    {
      "cell_type": "code",
      "source": [
        "# Step 4: Preprocessing\n",
        "\n",
        "# Drop only the existing irrelevant columns\n",
        "cols_to_drop = ['State', 'Area code']  # Removed 'Phone'\n",
        "train_df = train_df.drop(columns=cols_to_drop)\n",
        "test_df = test_df.drop(columns=cols_to_drop)\n",
        "\n",
        "# Label Encoding for categorical columns\n",
        "from sklearn.preprocessing import LabelEncoder\n",
        "le = LabelEncoder()\n",
        "\n",
        "label_cols = ['International plan', 'Voice mail plan']\n",
        "for col in label_cols:\n",
        "    train_df[col] = le.fit_transform(train_df[col])\n",
        "    test_df[col] = le.transform(test_df[col])\n",
        "\n",
        "# Encode the target column 'Churn'\n",
        "train_df['Churn'] = le.fit_transform(train_df['Churn'])\n",
        "test_df['Churn'] = le.transform(test_df['Churn'])\n"
      ],
      "metadata": {
        "id": "lyEaa3tbajzS"
      },
      "execution_count": 6,
      "outputs": []
    },
    {
      "cell_type": "code",
      "source": [
        "# Step 5: Split Features and Labels\n",
        "X_train = train_df.drop('Churn', axis=1)\n",
        "y_train = train_df['Churn']\n",
        "X_test = test_df.drop('Churn', axis=1)\n",
        "y_test = test_df['Churn']\n"
      ],
      "metadata": {
        "id": "f8OUxBoXaj5e"
      },
      "execution_count": 7,
      "outputs": []
    },
    {
      "cell_type": "code",
      "source": [
        "# Step 6: Feature Scaling (optional but improves performance)\n",
        "scaler = StandardScaler()\n",
        "X_train_scaled = scaler.fit_transform(X_train)\n",
        "X_test_scaled = scaler.transform(X_test)\n"
      ],
      "metadata": {
        "id": "BUZh8qwnbvZ6"
      },
      "execution_count": 8,
      "outputs": []
    },
    {
      "cell_type": "code",
      "source": [
        "# Step 7: Logistic Regression Model\n",
        "lr = LogisticRegression()\n",
        "lr.fit(X_train_scaled, y_train)\n",
        "y_pred_lr = lr.predict(X_test_scaled)\n",
        "\n",
        "print(\"Logistic Regression Accuracy:\", accuracy_score(y_test, y_pred_lr))\n",
        "print(classification_report(y_test, y_pred_lr))\n"
      ],
      "metadata": {
        "colab": {
          "base_uri": "https://localhost:8080/"
        },
        "id": "MPIYLVebbvdU",
        "outputId": "d19ee2ef-efa2-4d27-b479-6bbe120cf691"
      },
      "execution_count": 9,
      "outputs": [
        {
          "output_type": "stream",
          "name": "stdout",
          "text": [
            "Logistic Regression Accuracy: 0.8545727136431784\n",
            "              precision    recall  f1-score   support\n",
            "\n",
            "           0       0.88      0.97      0.92       572\n",
            "           1       0.47      0.19      0.27        95\n",
            "\n",
            "    accuracy                           0.85       667\n",
            "   macro avg       0.68      0.58      0.59       667\n",
            "weighted avg       0.82      0.85      0.83       667\n",
            "\n"
          ]
        }
      ]
    },
    {
      "cell_type": "code",
      "source": [
        "# Step 8: Random Forest Model\n",
        "rf = RandomForestClassifier(n_estimators=100, random_state=42)\n",
        "rf.fit(X_train, y_train)  # No scaling needed\n",
        "y_pred_rf = rf.predict(X_test)\n",
        "\n",
        "print(\"Random Forest Accuracy:\", accuracy_score(y_test, y_pred_rf))\n",
        "print(classification_report(y_test, y_pred_rf))\n"
      ],
      "metadata": {
        "colab": {
          "base_uri": "https://localhost:8080/"
        },
        "id": "dPD7u75paj8Z",
        "outputId": "3e5214a5-1e3b-4e1c-cfd0-383c8ddb170b"
      },
      "execution_count": 10,
      "outputs": [
        {
          "output_type": "stream",
          "name": "stdout",
          "text": [
            "Random Forest Accuracy: 0.9535232383808095\n",
            "              precision    recall  f1-score   support\n",
            "\n",
            "           0       0.95      0.99      0.97       572\n",
            "           1       0.96      0.71      0.81        95\n",
            "\n",
            "    accuracy                           0.95       667\n",
            "   macro avg       0.96      0.85      0.89       667\n",
            "weighted avg       0.95      0.95      0.95       667\n",
            "\n"
          ]
        }
      ]
    },
    {
      "cell_type": "code",
      "source": [
        "# Step 9: Confusion Matrix for Random Forest\n",
        "plt.figure(figsize=(6,4))\n",
        "sns.heatmap(confusion_matrix(y_test, y_pred_rf), annot=True, fmt='d', cmap='Blues')\n",
        "plt.title('Confusion Matrix - Random Forest')\n",
        "plt.xlabel('Predicted')\n",
        "plt.ylabel('Actual')\n",
        "plt.show()\n"
      ],
      "metadata": {
        "colab": {
          "base_uri": "https://localhost:8080/",
          "height": 410
        },
        "id": "-zvgE7tEcBIt",
        "outputId": "982331b2-5ff5-43fd-e147-3e47d66c943e"
      },
      "execution_count": 11,
      "outputs": [
        {
          "output_type": "display_data",
          "data": {
            "text/plain": [
              "<Figure size 600x400 with 2 Axes>"
            ],
            "image/png": "[encoded data removed]"
          },
          "metadata": {}
        }
      ]
    },
    {
      "cell_type": "code",
      "source": [],
      "metadata": {
        "id": "Ef_h1BVjcBTk"
      },
      "execution_count": null,
      "outputs": []
    },
    {
      "cell_type": "code",
      "source": [],
      "metadata": {
        "id": "jDh4kRDYaj_i"
      },
      "execution_count": null,
      "outputs": []
    }
  ]
}